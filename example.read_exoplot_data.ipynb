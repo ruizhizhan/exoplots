{
 "cells": [
  {
   "cell_type": "code",
   "execution_count": 1,
   "id": "4fa516e0",
   "metadata": {},
   "outputs": [],
   "source": [
    "'''\n",
    "    Script to load and analyze the data from NExSci and ExoFOP\n",
    "\n",
    "pip install bokeh\n",
    "pip install astroquery\n",
    "Ruizhi Zhan modified from original code by Daniel Koll\n",
    "'''\n",
    "\n",
    "import numpy as np\n",
    "import pandas as pd\n",
    "import matplotlib.pyplot as plt\n",
    "import os\n",
    "\n",
    "root = os.getcwd()\n",
    "root_prefixed = lambda p: os.path.join(root,p)"
   ]
  },
  {
   "cell_type": "code",
   "execution_count": 2,
   "id": "cfce88f9",
   "metadata": {},
   "outputs": [
    {
     "data": {
      "text/plain": [
       "256"
      ]
     },
     "execution_count": 2,
     "metadata": {},
     "output_type": "execute_result"
    }
   ],
   "source": [
    "# update the exoplanet data\n",
    "download_script = root_prefixed('download-planet-data.py')\n",
    "os.system(f'python {download_script}')"
   ]
  },
  {
   "cell_type": "code",
   "execution_count": 3,
   "id": "a9ff0f37",
   "metadata": {},
   "outputs": [
    {
     "data": {
      "text/html": [
       "<div>\n",
       "<style scoped>\n",
       "    .dataframe tbody tr th:only-of-type {\n",
       "        vertical-align: middle;\n",
       "    }\n",
       "\n",
       "    .dataframe tbody tr th {\n",
       "        vertical-align: top;\n",
       "    }\n",
       "\n",
       "    .dataframe thead th {\n",
       "        text-align: right;\n",
       "    }\n",
       "</style>\n",
       "<table border=\"1\" class=\"dataframe\">\n",
       "  <thead>\n",
       "    <tr style=\"text-align: right;\">\n",
       "      <th></th>\n",
       "      <th>name</th>\n",
       "      <th>hostname</th>\n",
       "      <th>IC</th>\n",
       "      <th>disposition</th>\n",
       "      <th>period</th>\n",
       "      <th>rade</th>\n",
       "      <th>rade_est</th>\n",
       "      <th>rade_err1</th>\n",
       "      <th>rade_err2</th>\n",
       "      <th>radj</th>\n",
       "      <th>...</th>\n",
       "      <th>st_teff</th>\n",
       "      <th>st_log_lum</th>\n",
       "      <th>Jmag</th>\n",
       "      <th>Kmag</th>\n",
       "      <th>ra</th>\n",
       "      <th>dec</th>\n",
       "      <th>flag_tran</th>\n",
       "      <th>flag_kepler</th>\n",
       "      <th>flag_k2</th>\n",
       "      <th>url</th>\n",
       "    </tr>\n",
       "  </thead>\n",
       "  <tbody>\n",
       "    <tr>\n",
       "      <th>0</th>\n",
       "      <td>OGLE-2016-BLG-1227L b</td>\n",
       "      <td>OGLE-2016-BLG-1227L</td>\n",
       "      <td>NaN</td>\n",
       "      <td>Confirmed</td>\n",
       "      <td>NaN</td>\n",
       "      <td>NaN</td>\n",
       "      <td>13.947316</td>\n",
       "      <td>NaN</td>\n",
       "      <td>NaN</td>\n",
       "      <td>NaN</td>\n",
       "      <td>...</td>\n",
       "      <td>NaN</td>\n",
       "      <td>NaN</td>\n",
       "      <td>NaN</td>\n",
       "      <td>NaN</td>\n",
       "      <td>265.597125</td>\n",
       "      <td>-33.759778</td>\n",
       "      <td>False</td>\n",
       "      <td>False</td>\n",
       "      <td>False</td>\n",
       "      <td>https://exoplanetarchive.ipac.caltech.edu/over...</td>\n",
       "    </tr>\n",
       "    <tr>\n",
       "      <th>1</th>\n",
       "      <td>Kepler-276 c</td>\n",
       "      <td>Kepler-276</td>\n",
       "      <td>NaN</td>\n",
       "      <td>Confirmed</td>\n",
       "      <td>31.884000</td>\n",
       "      <td>2.90</td>\n",
       "      <td>NaN</td>\n",
       "      <td>1.27</td>\n",
       "      <td>-0.28</td>\n",
       "      <td>0.258721</td>\n",
       "      <td>...</td>\n",
       "      <td>5779.0</td>\n",
       "      <td>-0.089</td>\n",
       "      <td>14.234</td>\n",
       "      <td>13.838</td>\n",
       "      <td>293.568197</td>\n",
       "      <td>39.036312</td>\n",
       "      <td>True</td>\n",
       "      <td>True</td>\n",
       "      <td>False</td>\n",
       "      <td>https://exoplanetarchive.ipac.caltech.edu/over...</td>\n",
       "    </tr>\n",
       "    <tr>\n",
       "      <th>2</th>\n",
       "      <td>Kepler-829 b</td>\n",
       "      <td>Kepler-829</td>\n",
       "      <td>NaN</td>\n",
       "      <td>Confirmed</td>\n",
       "      <td>6.883376</td>\n",
       "      <td>2.11</td>\n",
       "      <td>NaN</td>\n",
       "      <td>0.44</td>\n",
       "      <td>-0.18</td>\n",
       "      <td>0.188242</td>\n",
       "      <td>...</td>\n",
       "      <td>5698.0</td>\n",
       "      <td>0.040</td>\n",
       "      <td>13.699</td>\n",
       "      <td>13.290</td>\n",
       "      <td>282.332831</td>\n",
       "      <td>42.463813</td>\n",
       "      <td>True</td>\n",
       "      <td>True</td>\n",
       "      <td>False</td>\n",
       "      <td>https://exoplanetarchive.ipac.caltech.edu/over...</td>\n",
       "    </tr>\n",
       "    <tr>\n",
       "      <th>3</th>\n",
       "      <td>K2-283 b</td>\n",
       "      <td>K2-283</td>\n",
       "      <td>NaN</td>\n",
       "      <td>Confirmed</td>\n",
       "      <td>1.921036</td>\n",
       "      <td>3.52</td>\n",
       "      <td>NaN</td>\n",
       "      <td>0.16</td>\n",
       "      <td>-0.16</td>\n",
       "      <td>0.314034</td>\n",
       "      <td>...</td>\n",
       "      <td>5060.0</td>\n",
       "      <td>-0.524</td>\n",
       "      <td>12.579</td>\n",
       "      <td>11.983</td>\n",
       "      <td>13.194368</td>\n",
       "      <td>9.692918</td>\n",
       "      <td>True</td>\n",
       "      <td>False</td>\n",
       "      <td>True</td>\n",
       "      <td>https://exoplanetarchive.ipac.caltech.edu/over...</td>\n",
       "    </tr>\n",
       "    <tr>\n",
       "      <th>4</th>\n",
       "      <td>Kepler-477 b</td>\n",
       "      <td>Kepler-477</td>\n",
       "      <td>NaN</td>\n",
       "      <td>Confirmed</td>\n",
       "      <td>11.119907</td>\n",
       "      <td>2.07</td>\n",
       "      <td>NaN</td>\n",
       "      <td>0.18</td>\n",
       "      <td>-0.12</td>\n",
       "      <td>0.184673</td>\n",
       "      <td>...</td>\n",
       "      <td>5240.0</td>\n",
       "      <td>-0.372</td>\n",
       "      <td>12.274</td>\n",
       "      <td>11.729</td>\n",
       "      <td>288.067445</td>\n",
       "      <td>42.355305</td>\n",
       "      <td>True</td>\n",
       "      <td>True</td>\n",
       "      <td>False</td>\n",
       "      <td>https://exoplanetarchive.ipac.caltech.edu/over...</td>\n",
       "    </tr>\n",
       "  </tbody>\n",
       "</table>\n",
       "<p>5 rows × 43 columns</p>\n",
       "</div>"
      ],
      "text/plain": [
       "                    name             hostname  IC disposition     period  \\\n",
       "0  OGLE-2016-BLG-1227L b  OGLE-2016-BLG-1227L NaN   Confirmed        NaN   \n",
       "1           Kepler-276 c           Kepler-276 NaN   Confirmed  31.884000   \n",
       "2           Kepler-829 b           Kepler-829 NaN   Confirmed   6.883376   \n",
       "3               K2-283 b               K2-283 NaN   Confirmed   1.921036   \n",
       "4           Kepler-477 b           Kepler-477 NaN   Confirmed  11.119907   \n",
       "\n",
       "   rade   rade_est  rade_err1  rade_err2      radj  ...  st_teff  st_log_lum  \\\n",
       "0   NaN  13.947316        NaN        NaN       NaN  ...      NaN         NaN   \n",
       "1  2.90        NaN       1.27      -0.28  0.258721  ...   5779.0      -0.089   \n",
       "2  2.11        NaN       0.44      -0.18  0.188242  ...   5698.0       0.040   \n",
       "3  3.52        NaN       0.16      -0.16  0.314034  ...   5060.0      -0.524   \n",
       "4  2.07        NaN       0.18      -0.12  0.184673  ...   5240.0      -0.372   \n",
       "\n",
       "     Jmag    Kmag          ra        dec  flag_tran  flag_kepler  flag_k2  \\\n",
       "0     NaN     NaN  265.597125 -33.759778      False        False    False   \n",
       "1  14.234  13.838  293.568197  39.036312       True         True    False   \n",
       "2  13.699  13.290  282.332831  42.463813       True         True    False   \n",
       "3  12.579  11.983   13.194368   9.692918       True        False     True   \n",
       "4  12.274  11.729  288.067445  42.355305       True         True    False   \n",
       "\n",
       "                                                 url  \n",
       "0  https://exoplanetarchive.ipac.caltech.edu/over...  \n",
       "1  https://exoplanetarchive.ipac.caltech.edu/over...  \n",
       "2  https://exoplanetarchive.ipac.caltech.edu/over...  \n",
       "3  https://exoplanetarchive.ipac.caltech.edu/over...  \n",
       "4  https://exoplanetarchive.ipac.caltech.edu/over...  \n",
       "\n",
       "[5 rows x 43 columns]"
      ]
     },
     "execution_count": 3,
     "metadata": {},
     "output_type": "execute_result"
    }
   ],
   "source": [
    "# read in all planets\n",
    "df = pd.read_csv(root_prefixed('data/exoplots_data.csv'))\n",
    "df.head() # print out a few rows"
   ]
  },
  {
   "cell_type": "code",
   "execution_count": 4,
   "id": "7071f2fb",
   "metadata": {},
   "outputs": [
    {
     "name": "stdout",
     "output_type": "stream",
     "text": [
      "Planets with BOTH real radius and mass:  1199\n",
      "Planets with BOTH real radius and mass, that are smaller than 2Re:  173\n"
     ]
    }
   ],
   "source": [
    "# check how many planets have BOTH mass + radius\n",
    "print( \"Planets with BOTH real radius and mass: \", np.sum( np.logical_and(~np.isnan(df['rade']),~np.isnan(df['masse'])) ) )\n",
    "print( \"Planets with BOTH real radius and mass, that are smaller than 2Re: \", \n",
    "                                                       np.sum( \n",
    "                                                           np.logical_and(\n",
    "                                                               np.logical_and(~np.isnan(df['rade']),~np.isnan(df['masse'])),\n",
    "                                                               df['rade']<2\n",
    "                                                           )\n",
    "                                                       ) )"
   ]
  },
  {
   "cell_type": "code",
   "execution_count": 33,
   "id": "9972f4f3",
   "metadata": {},
   "outputs": [
    {
     "name": "stdout",
     "output_type": "stream",
     "text": [
      "Total planets:  13558\n",
      "Planets with real radii:  11690\n",
      "Planets with estd. radii:  1342\n",
      "Sum:  13032\n",
      "** Nr of planets with some kind of radius:  13032\n",
      "Planets with real mass:  2541\n",
      "Planets with estd. mass:  10491\n",
      "Sum:  13032\n",
      "** Nr of planets with some kind of mass:  13032\n",
      "Planets with stellar radii:  12854\n",
      "Planets with stellar mass:  12156\n",
      "Planets with stellar temp:  12797\n",
      "Planets with orbital periods:  13204\n"
     ]
    }
   ],
   "source": [
    "# first, many planets only have estimated mass or radius\n",
    "# --> use best of (data, estimate) to get rid of nans\n",
    "print( \"Total planets: \", len(df) )\n",
    "print( \"Planets with real radii: \", np.sum(~np.isnan(df['rade'])) )\n",
    "print( \"Planets with estd. radii: \", np.sum(~np.isnan(df['rade_est'])) )\n",
    "print( \"Sum: \", np.sum(~np.isnan(df['rade'])) + np.sum(~np.isnan(df['rade_est'])) )\n",
    "\n",
    "df['rade_merged'] = np.zeros_like(df['rade'].copy()) * np.nan\n",
    "mask = ~np.isnan(df['rade'])\n",
    "df.loc[mask,'rade_merged'] = df.loc[mask,'rade']      # where available, use real values\n",
    "mask = np.logical_and( np.isnan(df['rade']), ~np.isnan(df['rade_est']) )\n",
    "df.loc[mask,'rade_merged'] = df.loc[mask,'rade_est']  # else use estimated values\n",
    "print( \"** Nr of planets with some kind of radius: \", np.sum(~np.isnan(df['rade_merged'])) )\n",
    "\n",
    "# ---\n",
    "print( \"Planets with real mass: \", np.sum(~np.isnan(df['masse'])) )\n",
    "print( \"Planets with estd. mass: \", np.sum(~np.isnan(df['masse_est'])) )\n",
    "print( \"Sum: \", np.sum(~np.isnan(df['masse'])) + np.sum(~np.isnan(df['masse_est'])) )\n",
    "\n",
    "df['masse_merged'] = np.zeros_like(df['masse'].copy()) * np.nan\n",
    "mask = ~np.isnan(df['masse'])\n",
    "df.loc[mask,'masse_merged'] = df.loc[mask,'masse']  # where available, use real values\n",
    "mask = np.logical_and( np.isnan(df['masse']), ~np.isnan(df['masse_est']) )\n",
    "df.loc[mask,'masse_merged'] = df.loc[mask,'masse_est']\n",
    "print( \"** Nr of planets with some kind of mass: \", np.sum(~np.isnan(df['masse_merged'])) )\n",
    "\n",
    "# also check other parameters\n",
    "print( \"Planets with stellar radii: \", np.sum(~np.isnan(df['st_rad'])) )\n",
    "print( \"Planets with stellar mass: \", np.sum(~np.isnan(df['st_mass'])) )\n",
    "print( \"Planets with stellar temp: \", np.sum(~np.isnan(df['st_teff'])) )\n",
    "print( \"Planets with orbital periods: \", np.sum(~np.isnan(df['period'])) )\n",
    "\n",
    "# df.head()"
   ]
  },
  {
   "cell_type": "code",
   "execution_count": 10,
   "id": "78fe4b1e",
   "metadata": {},
   "outputs": [
    {
     "name": "stdout",
     "output_type": "stream",
     "text": [
      "Epsilon Indi A  in df?  False\n"
     ]
    }
   ],
   "source": [
    "check_list = ['Epsilon Indi A b']\n",
    "#check the name in checklist to see if it is in the df\n",
    "for name in check_list:\n",
    "    print( name, \" in df? \", name in df['name'].values )"
   ]
  },
  {
   "cell_type": "code",
   "execution_count": 91,
   "id": "f2da6642",
   "metadata": {},
   "outputs": [
    {
     "name": "stdout",
     "output_type": "stream",
     "text": [
      "KOI-55 c: 6860.912750403273 K\n",
      "HD 80653 b: 2463.1582215602566 K\n",
      "KOI-55 b: 7721.702539398411 K\n"
     ]
    }
   ],
   "source": [
    "# print(df.index, df.columns, df.dtypes, df.shape, df.size, df.values, df.describe(), df.info(), df.head(), df.tail(), df.sample(5))\n",
    "# 'period' 'mass' \n",
    "# for loop all planets\n",
    "R_sun = 6.96e8 # m\n",
    "AU = 1.496e11 # m\n",
    "T_planet = []\n",
    "R_planet = []\n",
    "M_planet = []\n",
    "T_star = []\n",
    "for i in range(len(df)):\n",
    "    if ~np.isnan(df['st_rad'][i]) and ~np.isnan(df['st_mass'][i]) and ~np.isnan(df['st_teff'][i]) and ~np.isnan(df['period'][i]):\n",
    "        if ~np.isnan(df['rade'][i]) and ~np.isnan(df['masse'][i]) and ~np.isnan(df['semi_au'][i]):\n",
    "            Tstar = df['st_teff'][i]\n",
    "            Rstar = df['st_rad'][i]\n",
    "            d = df['semi_au'][i]\n",
    "            T_planet.append(Tstar * (Rstar*R_sun/(2*d*AU))**0.5)\n",
    "            R_planet.append(df['rade'][i])\n",
    "            M_planet.append(df['masse'][i])\n",
    "            T_star.append(Tstar)\n",
    "            if T_planet[-1] > 2400 and R_planet[-1] < 2:\n",
    "                print(f\"{df['name'][i]}: {T_planet[-1]} K\")\n",
    "T_planet = np.array(T_planet); R_planet = np.array(R_planet); M_planet = np.array(M_planet)\n",
    "            "
   ]
  },
  {
   "cell_type": "code",
   "execution_count": 92,
   "id": "605c41de",
   "metadata": {},
   "outputs": [
    {
     "name": "stdout",
     "output_type": "stream",
     "text": [
      "27730.0 2320.0\n"
     ]
    },
    {
     "data": {
      "image/png": "[encoded data removed]",
      "text/plain": [
       "<Figure size 468x360 with 2 Axes>"
      ]
     },
     "metadata": {
      "needs_background": "light"
     },
     "output_type": "display_data"
    }
   ],
   "source": [
    "fig, ax = plt.subplots(1,1,figsize=(6.5,5))\n",
    "# scatter plot: size: M_planet, color: T_star\n",
    "resized_M_planet = np.log10(M_planet) - np.min(np.log10(M_planet))+0.1\n",
    "print(np.max(T_star), np.min(T_star))\n",
    "# set upper limit for T_star\n",
    "resized_T_star = np.minimum(T_star, 9000)\n",
    "plot = ax.scatter(R_planet, T_planet, s=20*resized_M_planet, c=resized_T_star, cmap='coolwarm_r', alpha=1.0)\n",
    "ax.set_ylim(0, 2500)\n",
    "ax.set_xlim(0,5)\n",
    "ax.tick_params(axis='both', which='major', labelsize=14)\n",
    "ax.set_xlabel('Planet Radius [R$_\\oplus$]', fontsize=15)\n",
    "ax.set_ylabel('Equilibrium Temperature [K]', fontsize=15)\n",
    "cbar = fig.colorbar(plot, ax=ax)\n",
    "cbar.set_label('Stellar Temperature [K]', fontsize=14)\n",
    "cbar.ax.tick_params(labelsize=12)\n",
    "plt.show()"
   ]
  },
  {
   "cell_type": "code",
   "execution_count": null,
   "id": "c205ef29",
   "metadata": {},
   "outputs": [
    {
     "name": "stdout",
     "output_type": "stream",
     "text": [
      "[1.00000000e-05 1.58489319e-05 2.51188643e-05 3.98107171e-05\n",
      " 6.30957344e-05 1.00000000e-04 1.58489319e-04 2.51188643e-04\n",
      " 3.98107171e-04 6.30957344e-04 1.00000000e-03 1.58489319e-03\n",
      " 2.51188643e-03 3.98107171e-03 6.30957344e-03 1.00000000e-02\n",
      " 1.58489319e-02 2.51188643e-02 3.98107171e-02 6.30957344e-02\n",
      " 1.00000000e-01 1.58489319e-01 2.51188643e-01 3.98107171e-01\n",
      " 6.30957344e-01 1.00000000e+00 1.58489319e+00 2.51188643e+00\n",
      " 3.98107171e+00 6.30957344e+00 1.00000000e+01 1.58489319e+01\n",
      " 2.51188643e+01 3.98107171e+01 6.30957344e+01 1.00000000e+02]\n"
     ]
    }
   ],
   "source": []
  }
 ],
 "metadata": {
  "kernelspec": {
   "display_name": "Python 3 (ipykernel)",
   "language": "python",
   "name": "python3"
  },
  "language_info": {
   "codemirror_mode": {
    "name": "ipython",
    "version": 3
   },
   "file_extension": ".py",
   "mimetype": "text/x-python",
   "name": "python",
   "nbconvert_exporter": "python",
   "pygments_lexer": "ipython3",
   "version": "3.9.12"
  }
 },
 "nbformat": 4,
 "nbformat_minor": 5
}
